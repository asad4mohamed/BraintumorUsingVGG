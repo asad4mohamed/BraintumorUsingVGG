{
 "cells": [
  {
   "cell_type": "code",
   "execution_count": 1,
   "id": "c8d3f81c",
   "metadata": {},
   "outputs": [],
   "source": [
    "import tensorflow as tf\n",
    "import os\n",
    "import numpy as np\n",
    "import matplotlib.pyplot as plt\n",
    "import seaborn as sns\n",
    "from sklearn.metrics import confusion_matrix, classification_report\n",
    "from sklearn.metrics import accuracy_score, precision_score, recall_score, f1_score, confusion_matrix\n",
    "from tensorflow.keras.preprocessing.image import ImageDataGenerator"
   ]
  },
  {
   "cell_type": "code",
   "execution_count": 2,
   "id": "ce8b024d",
   "metadata": {},
   "outputs": [],
   "source": [
    "# Load the trained model\n",
    "model = tf.keras.models.load_model('vgg16_brain_tumor_model.h5')"
   ]
  },
  {
   "cell_type": "code",
   "execution_count": 3,
   "id": "e9389cda",
   "metadata": {},
   "outputs": [
    {
     "name": "stdout",
     "output_type": "stream",
     "text": [
      "Model: \"sequential\"\n",
      "_________________________________________________________________\n",
      " Layer (type)                Output Shape              Param #   \n",
      "=================================================================\n",
      " vgg16 (Functional)          (None, 7, 7, 512)         14714688  \n",
      "                                                                 \n",
      " flatten (Flatten)           (None, 25088)             0         \n",
      "                                                                 \n",
      " dense (Dense)               (None, 256)               6422784   \n",
      "                                                                 \n",
      " dropout (Dropout)           (None, 256)               0         \n",
      "                                                                 \n",
      " dense_1 (Dense)             (None, 4)                 1028      \n",
      "                                                                 \n",
      "=================================================================\n",
      "Total params: 21,138,500\n",
      "Trainable params: 21,138,500\n",
      "Non-trainable params: 0\n",
      "_________________________________________________________________\n"
     ]
    }
   ],
   "source": [
    "model.summary()"
   ]
  },
  {
   "cell_type": "code",
   "execution_count": 4,
   "id": "2d719762",
   "metadata": {},
   "outputs": [],
   "source": [
    "base_dir = \"input\"\n",
    "test_dir = os.path.join(base_dir, 'Testing')\n",
    "(IMG_HEIGHT, IMG_WIDTH) = (224, 224)\n",
    "batch_size = 32"
   ]
  },
  {
   "cell_type": "code",
   "execution_count": 5,
   "id": "26fb26d8",
   "metadata": {},
   "outputs": [
    {
     "name": "stdout",
     "output_type": "stream",
     "text": [
      "Found 374 images belonging to 4 classes.\n"
     ]
    }
   ],
   "source": [
    "# Testing data as batches of tensor image data\n",
    "test_image_generator = ImageDataGenerator(rescale=1./255)\n",
    "test_data_generator = test_image_generator.flow_from_directory(\n",
    "    directory=test_dir,\n",
    "    target_size=(IMG_HEIGHT, IMG_WIDTH),\n",
    "    batch_size=batch_size,\n",
    "    class_mode=\"categorical\"\n",
    ")\n"
   ]
  },
  {
   "cell_type": "code",
   "execution_count": 6,
   "id": "a69014bc",
   "metadata": {},
   "outputs": [
    {
     "name": "stdout",
     "output_type": "stream",
     "text": [
      "{'glioma_tumor': 0, 'meningioma_tumor': 1, 'no_tumor': 2, 'pituitary_tumor': 3}\n"
     ]
    }
   ],
   "source": [
    "labels = test_data_generator.class_indices\n",
    "print(labels)"
   ]
  },
  {
   "cell_type": "code",
   "execution_count": 7,
   "id": "9be4183a",
   "metadata": {},
   "outputs": [
    {
     "name": "stdout",
     "output_type": "stream",
     "text": [
      "['Glioma_Tumor' 'Meningioma_Tumor' 'No_Tumor' 'Pituitary_Tumor']\n"
     ]
    }
   ],
   "source": [
    "# Learn about dataset labels\n",
    "dataset_labels = sorted(test_data_generator.class_indices.items())\n",
    "dataset_labels = np.array([key.title() for key, value in dataset_labels])\n",
    "print(dataset_labels)"
   ]
  },
  {
   "cell_type": "code",
   "execution_count": 8,
   "id": "caee1567",
   "metadata": {},
   "outputs": [
    {
     "name": "stdout",
     "output_type": "stream",
     "text": [
      "Test batch shape: (32, 224, 224, 3)\n",
      "True label IDs shape: (32,)\n"
     ]
    }
   ],
   "source": [
    "# Check the shape\n",
    "test_image_batch, test_label_batch = next(iter(test_data_generator))\n",
    "true_label_ids = np.argmax(test_label_batch, axis=-1)\n",
    "\n",
    "print(\"Test batch shape:\", test_image_batch.shape)\n",
    "print(\"True label IDs shape:\", true_label_ids.shape)"
   ]
  },
  {
   "cell_type": "code",
   "execution_count": 9,
   "id": "9915e683",
   "metadata": {},
   "outputs": [
    {
     "name": "stdout",
     "output_type": "stream",
     "text": [
      "1/1 [==============================] - 2s 2s/step\n"
     ]
    }
   ],
   "source": [
    "# Predict probabilities for the test set\n",
    "yhat_probs = model.predict(test_image_batch)"
   ]
  },
  {
   "cell_type": "code",
   "execution_count": 10,
   "id": "68325fd3",
   "metadata": {},
   "outputs": [
    {
     "data": {
      "text/plain": [
       "array([[1.97251872e-12, 1.16570064e-07, 9.99999881e-01, 3.88555996e-08],\n",
       "       [1.16669680e-05, 1.41456304e-03, 5.80774431e-05, 9.98515666e-01],\n",
       "       [1.04539299e-06, 3.11342214e-04, 9.99645710e-01, 4.19184325e-05],\n",
       "       [9.99960065e-01, 7.70517363e-06, 5.83968040e-06, 2.63398470e-05],\n",
       "       [2.24959873e-09, 1.54188747e-05, 9.99984384e-01, 1.69573482e-07],\n",
       "       [2.04724519e-12, 1.00000000e+00, 1.37206479e-11, 3.42610340e-09],\n",
       "       [2.18560050e-08, 2.07464309e-05, 9.99979019e-01, 2.85853844e-07],\n",
       "       [1.00000000e+00, 5.59923252e-15, 5.85875241e-15, 8.87599673e-13],\n",
       "       [4.53405285e-14, 1.00000000e+00, 7.01832018e-16, 2.12525245e-12],\n",
       "       [1.20789504e-04, 9.98744130e-01, 2.01102066e-05, 1.11497147e-03],\n",
       "       [4.63599060e-03, 3.12050950e-04, 1.41363153e-05, 9.95037735e-01],\n",
       "       [4.14986857e-07, 1.85527895e-02, 4.33752838e-08, 9.81446743e-01],\n",
       "       [1.07771799e-12, 1.00000000e+00, 8.58828687e-13, 2.97678340e-11],\n",
       "       [2.86914775e-17, 1.00000000e+00, 7.50418767e-22, 3.01480889e-19],\n",
       "       [1.00000000e+00, 2.85934787e-09, 6.03596617e-10, 5.26219850e-08],\n",
       "       [4.28596991e-10, 8.76758918e-07, 1.13618620e-11, 9.99999166e-01],\n",
       "       [4.86184037e-15, 1.00000000e+00, 1.19464421e-12, 1.25580712e-13],\n",
       "       [1.00000000e+00, 5.21859574e-13, 5.45464444e-13, 1.89661481e-10],\n",
       "       [5.21749094e-13, 1.00000000e+00, 4.97547559e-11, 2.77533413e-11],\n",
       "       [9.99996543e-01, 2.27939677e-06, 3.51212236e-07, 8.32698674e-07],\n",
       "       [1.72606938e-19, 1.00000000e+00, 5.58673714e-20, 7.95551359e-20],\n",
       "       [2.78258882e-03, 7.35733332e-03, 2.23371826e-04, 9.89636719e-01],\n",
       "       [1.00000000e+00, 6.32936900e-13, 3.45022215e-13, 2.27316985e-10],\n",
       "       [2.07833292e-10, 5.00932487e-08, 2.20363701e-12, 1.00000000e+00],\n",
       "       [1.30886940e-04, 2.70561308e-01, 3.07130131e-06, 7.29304731e-01],\n",
       "       [2.85721741e-11, 4.16514808e-07, 9.99999523e-01, 4.16186463e-09],\n",
       "       [4.52218592e-14, 1.00000000e+00, 8.01602970e-16, 2.23656402e-12],\n",
       "       [9.22196957e-14, 1.00000000e+00, 1.14111281e-11, 8.23237312e-11],\n",
       "       [1.28277441e-11, 9.99999762e-01, 2.36154904e-07, 5.76883963e-09],\n",
       "       [6.52956963e-01, 3.20753813e-01, 1.21422927e-03, 2.50750147e-02],\n",
       "       [9.07448877e-04, 9.36098695e-01, 2.54194947e-05, 6.29684031e-02],\n",
       "       [9.07448877e-04, 9.36098695e-01, 2.54194947e-05, 6.29683733e-02]],\n",
       "      dtype=float32)"
      ]
     },
     "execution_count": 10,
     "metadata": {},
     "output_type": "execute_result"
    }
   ],
   "source": [
    "yhat_probs"
   ]
  },
  {
   "cell_type": "code",
   "execution_count": 11,
   "id": "91deecb4",
   "metadata": {},
   "outputs": [],
   "source": [
    "# Convert numeric classes to real name class\n",
    "yhat_classes = np.argmax(yhat_probs, axis=-1)\n",
    "pred_class = np.array(list(list(labels.keys())[list(labels.values()).index(i)] for i in yhat_classes))"
   ]
  },
  {
   "cell_type": "code",
   "execution_count": 12,
   "id": "9950727b",
   "metadata": {},
   "outputs": [
    {
     "data": {
      "text/plain": [
       "array(['no_tumor', 'pituitary_tumor', 'no_tumor', 'glioma_tumor',\n",
       "       'no_tumor', 'meningioma_tumor', 'no_tumor', 'glioma_tumor',\n",
       "       'meningioma_tumor', 'meningioma_tumor', 'pituitary_tumor',\n",
       "       'pituitary_tumor', 'meningioma_tumor', 'meningioma_tumor',\n",
       "       'glioma_tumor', 'pituitary_tumor', 'meningioma_tumor',\n",
       "       'glioma_tumor', 'meningioma_tumor', 'glioma_tumor',\n",
       "       'meningioma_tumor', 'pituitary_tumor', 'glioma_tumor',\n",
       "       'pituitary_tumor', 'pituitary_tumor', 'no_tumor',\n",
       "       'meningioma_tumor', 'meningioma_tumor', 'meningioma_tumor',\n",
       "       'glioma_tumor', 'meningioma_tumor', 'meningioma_tumor'],\n",
       "      dtype='<U16')"
      ]
     },
     "execution_count": 12,
     "metadata": {},
     "output_type": "execute_result"
    }
   ],
   "source": [
    "pred_class"
   ]
  },
  {
   "cell_type": "code",
   "execution_count": 13,
   "id": "9ebbaeeb",
   "metadata": {},
   "outputs": [],
   "source": [
    "# Calculate metrics\n",
    "testy = np.array([np.where(r == 1)[0][0] for r in test_label_batch])\n",
    "test_real = np.array(list(list(labels.keys())[list(labels.values()).index(i)] for i in testy))"
   ]
  },
  {
   "cell_type": "code",
   "execution_count": 14,
   "id": "b2e29573",
   "metadata": {},
   "outputs": [
    {
     "data": {
      "text/plain": [
       "array([2, 3, 2, 0, 2, 1, 2, 0, 1, 1, 3, 3, 1, 1, 0, 3, 1, 0, 1, 0, 1, 3,\n",
       "       0, 3, 3, 2, 1, 1, 1, 0, 3, 3], dtype=int64)"
      ]
     },
     "execution_count": 14,
     "metadata": {},
     "output_type": "execute_result"
    }
   ],
   "source": [
    "testy"
   ]
  },
  {
   "cell_type": "code",
   "execution_count": 15,
   "id": "4c1de3bf",
   "metadata": {},
   "outputs": [
    {
     "name": "stdout",
     "output_type": "stream",
     "text": [
      "Accuracy: 0.9375\n",
      "Precision: 0.9615384615384616\n",
      "Recall: 0.9444444444444444\n",
      "F1 score: 0.9479166666666666\n"
     ]
    }
   ],
   "source": [
    "# Accuracy\n",
    "accuracy = accuracy_score(testy, yhat_classes)\n",
    "print('Accuracy:', accuracy)\n",
    "\n",
    "# Precision\n",
    "precision = precision_score(testy, yhat_classes, average='macro')\n",
    "print('Precision:', precision)\n",
    "\n",
    "# Recall\n",
    "recall = recall_score(testy, yhat_classes, average='macro')\n",
    "print('Recall:', recall)\n",
    "\n",
    "# F1 Score\n",
    "f1 = f1_score(testy, yhat_classes, average='macro')\n",
    "print('F1 score:', f1)"
   ]
  },
  {
   "cell_type": "code",
   "execution_count": 16,
   "id": "47fcfc98",
   "metadata": {},
   "outputs": [
    {
     "data": {
      "image/png": "[encoded data removed]",
      "text/plain": [
       "<Figure size 800x800 with 1 Axes>"
      ]
     },
     "metadata": {},
     "output_type": "display_data"
    }
   ],
   "source": [
    "# Confusion Matrix\n",
    "conf_matrix = confusion_matrix(testy, yhat_classes)\n",
    "#print('Confusion Matrix:')\n",
    "#print(conf_matrix)\n",
    "\n",
    "# Plot colored confusion matrix\n",
    "def plot_confusion_matrix(conf_matrix, classes):\n",
    "    plt.figure(figsize=(8, 8))\n",
    "    sns.set(font_scale=1.2)\n",
    "    sns.heatmap(conf_matrix, annot=True, fmt=\"d\", cmap=\"Blues\", cbar=False,\n",
    "                xticklabels=classes, yticklabels=classes)\n",
    "    plt.title(\"Confusion Matrix\")\n",
    "    plt.xlabel(\"Predicted\")\n",
    "    plt.ylabel(\"Actual\")\n",
    "    plt.show()\n",
    "\n",
    "# Plot the confusion matrix\n",
    "plot_confusion_matrix(conf_matrix, classes=dataset_labels)"
   ]
  },
  {
   "cell_type": "code",
   "execution_count": null,
   "id": "06a42583",
   "metadata": {},
   "outputs": [],
   "source": []
  }
 ],
 "metadata": {
  "kernelspec": {
   "display_name": "Deeplearnn",
   "language": "python",
   "name": "python3"
  },
  "language_info": {
   "codemirror_mode": {
    "name": "ipython",
    "version": 3
   },
   "file_extension": ".py",
   "mimetype": "text/x-python",
   "name": "python",
   "nbconvert_exporter": "python",
   "pygments_lexer": "ipython3",
   "version": "3.9.16"
  }
 },
 "nbformat": 4,
 "nbformat_minor": 5
}
